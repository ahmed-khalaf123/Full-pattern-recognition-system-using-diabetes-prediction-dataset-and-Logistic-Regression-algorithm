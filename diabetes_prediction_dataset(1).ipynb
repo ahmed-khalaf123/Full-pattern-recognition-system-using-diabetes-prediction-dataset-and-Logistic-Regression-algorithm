{
  "metadata": {
    "kernelspec": {
      "language": "python",
      "display_name": "Python 3",
      "name": "python3"
    },
    "language_info": {
      "pygments_lexer": "ipython3",
      "nbconvert_exporter": "python",
      "version": "3.6.4",
      "file_extension": ".py",
      "codemirror_mode": {
        "name": "ipython",
        "version": 3
      },
      "name": "python",
      "mimetype": "text/x-python"
    },
    "colab": {
      "provenance": []
    }
  },
  "nbformat_minor": 0,
  "nbformat": 4,
  "cells": [
    {
      "cell_type": "code",
      "source": [
        "!unzip /content/Diabetes-prediction-dataset.zip"
      ],
      "metadata": {
        "colab": {
          "base_uri": "https://localhost:8080/"
        },
        "id": "FkuwCvwuQDpa",
        "outputId": "afb9d86e-1a3a-4956-fcb2-63044ce46911"
      },
      "execution_count": null,
      "outputs": [
        {
          "output_type": "stream",
          "name": "stdout",
          "text": [
            "Archive:  /content/Diabetes-prediction-dataset.zip\n",
            "  inflating: diabetes_prediction_dataset.csv  \n"
          ]
        }
      ]
    },
    {
      "cell_type": "markdown",
      "source": [
        "# ***Import libraries***"
      ],
      "metadata": {
        "id": "MvxnpT88h5xx"
      }
    },
    {
      "cell_type": "code",
      "source": [
        "\n",
        "import numpy as np \n",
        "import pandas as pd \n",
        "import matplotlib.pyplot as plt \n",
        "import seaborn as sns \n",
        "from sklearn.decomposition import PCA\n",
        "import pickle\n",
        "import warnings\n",
        "warnings.filterwarnings('ignore')\n",
        "pd.set_option('display.max_rows',None)\n",
        "pd.set_option('display.max_columns',None)\n",
        "# For Conversion of numerical columns to categorical columns. \n",
        "from sklearn.preprocessing import OneHotEncoder\n",
        "# Model Building \n",
        "from sklearn.linear_model import LogisticRegression \n",
        "# Metrics Evaluation \n",
        "from sklearn.metrics import accuracy_score,classification_report\n"
      ],
      "metadata": {
        "_uuid": "8f2839f25d086af736a60e9eeb907d3b93b6e0e5",
        "_cell_guid": "b1076dfc-b9ad-4769-8c92-a6c4dae69d19",
        "execution": {
          "iopub.status.busy": "2023-05-13T09:43:13.480436Z",
          "iopub.execute_input": "2023-05-13T09:43:13.480843Z",
          "iopub.status.idle": "2023-05-13T09:43:13.489267Z",
          "shell.execute_reply.started": "2023-05-13T09:43:13.480811Z",
          "shell.execute_reply": "2023-05-13T09:43:13.48821Z"
        },
        "trusted": true,
        "id": "Of2-i50OPOw8"
      },
      "execution_count": null,
      "outputs": []
    },
    {
      "cell_type": "markdown",
      "source": [
        "# ***Read Dataset***"
      ],
      "metadata": {
        "id": "tg1RkEnghsWe"
      }
    },
    {
      "cell_type": "code",
      "source": [
        "filepath = '/content/diabetes_prediction_dataset.csv'\n",
        "df = pd.read_csv(filepath)"
      ],
      "metadata": {
        "execution": {
          "iopub.status.busy": "2023-05-13T09:29:56.500118Z",
          "iopub.execute_input": "2023-05-13T09:29:56.501177Z",
          "iopub.status.idle": "2023-05-13T09:29:56.602395Z",
          "shell.execute_reply.started": "2023-05-13T09:29:56.501146Z",
          "shell.execute_reply": "2023-05-13T09:29:56.601251Z"
        },
        "trusted": true,
        "id": "3UvER07dPOw9"
      },
      "execution_count": null,
      "outputs": []
    },
    {
      "cell_type": "code",
      "source": [
        "df.head()"
      ],
      "metadata": {
        "execution": {
          "iopub.status.busy": "2023-05-13T09:29:56.605864Z",
          "iopub.execute_input": "2023-05-13T09:29:56.606492Z",
          "iopub.status.idle": "2023-05-13T09:29:56.623277Z",
          "shell.execute_reply.started": "2023-05-13T09:29:56.606449Z",
          "shell.execute_reply": "2023-05-13T09:29:56.6221Z"
        },
        "trusted": true,
        "colab": {
          "base_uri": "https://localhost:8080/",
          "height": 206
        },
        "id": "j4bY-KEXPOw9",
        "outputId": "4d072234-e517-49bf-fcd0-7954d7d565a4"
      },
      "execution_count": null,
      "outputs": [
        {
          "output_type": "execute_result",
          "data": {
            "text/plain": [
              "   gender   age  hypertension  heart_disease smoking_history    bmi  \\\n",
              "0  Female  80.0             0              1           never  25.19   \n",
              "1  Female  54.0             0              0         No Info  27.32   \n",
              "2    Male  28.0             0              0           never  27.32   \n",
              "3  Female  36.0             0              0         current  23.45   \n",
              "4    Male  76.0             1              1         current  20.14   \n",
              "\n",
              "   HbA1c_level  blood_glucose_level  diabetes  \n",
              "0          6.6                  140         0  \n",
              "1          6.6                   80         0  \n",
              "2          5.7                  158         0  \n",
              "3          5.0                  155         0  \n",
              "4          4.8                  155         0  "
            ],
            "text/html": [
              "\n",
              "  <div id=\"df-e42fcd66-9b17-4c47-833c-a1171bb39abc\">\n",
              "    <div class=\"colab-df-container\">\n",
              "      <div>\n",
              "<style scoped>\n",
              "    .dataframe tbody tr th:only-of-type {\n",
              "        vertical-align: middle;\n",
              "    }\n",
              "\n",
              "    .dataframe tbody tr th {\n",
              "        vertical-align: top;\n",
              "    }\n",
              "\n",
              "    .dataframe thead th {\n",
              "        text-align: right;\n",
              "    }\n",
              "</style>\n",
              "<table border=\"1\" class=\"dataframe\">\n",
              "  <thead>\n",
              "    <tr style=\"text-align: right;\">\n",
              "      <th></th>\n",
              "      <th>gender</th>\n",
              "      <th>age</th>\n",
              "      <th>hypertension</th>\n",
              "      <th>heart_disease</th>\n",
              "      <th>smoking_history</th>\n",
              "      <th>bmi</th>\n",
              "      <th>HbA1c_level</th>\n",
              "      <th>blood_glucose_level</th>\n",
              "      <th>diabetes</th>\n",
              "    </tr>\n",
              "  </thead>\n",
              "  <tbody>\n",
              "    <tr>\n",
              "      <th>0</th>\n",
              "      <td>Female</td>\n",
              "      <td>80.0</td>\n",
              "      <td>0</td>\n",
              "      <td>1</td>\n",
              "      <td>never</td>\n",
              "      <td>25.19</td>\n",
              "      <td>6.6</td>\n",
              "      <td>140</td>\n",
              "      <td>0</td>\n",
              "    </tr>\n",
              "    <tr>\n",
              "      <th>1</th>\n",
              "      <td>Female</td>\n",
              "      <td>54.0</td>\n",
              "      <td>0</td>\n",
              "      <td>0</td>\n",
              "      <td>No Info</td>\n",
              "      <td>27.32</td>\n",
              "      <td>6.6</td>\n",
              "      <td>80</td>\n",
              "      <td>0</td>\n",
              "    </tr>\n",
              "    <tr>\n",
              "      <th>2</th>\n",
              "      <td>Male</td>\n",
              "      <td>28.0</td>\n",
              "      <td>0</td>\n",
              "      <td>0</td>\n",
              "      <td>never</td>\n",
              "      <td>27.32</td>\n",
              "      <td>5.7</td>\n",
              "      <td>158</td>\n",
              "      <td>0</td>\n",
              "    </tr>\n",
              "    <tr>\n",
              "      <th>3</th>\n",
              "      <td>Female</td>\n",
              "      <td>36.0</td>\n",
              "      <td>0</td>\n",
              "      <td>0</td>\n",
              "      <td>current</td>\n",
              "      <td>23.45</td>\n",
              "      <td>5.0</td>\n",
              "      <td>155</td>\n",
              "      <td>0</td>\n",
              "    </tr>\n",
              "    <tr>\n",
              "      <th>4</th>\n",
              "      <td>Male</td>\n",
              "      <td>76.0</td>\n",
              "      <td>1</td>\n",
              "      <td>1</td>\n",
              "      <td>current</td>\n",
              "      <td>20.14</td>\n",
              "      <td>4.8</td>\n",
              "      <td>155</td>\n",
              "      <td>0</td>\n",
              "    </tr>\n",
              "  </tbody>\n",
              "</table>\n",
              "</div>\n",
              "      <button class=\"colab-df-convert\" onclick=\"convertToInteractive('df-e42fcd66-9b17-4c47-833c-a1171bb39abc')\"\n",
              "              title=\"Convert this dataframe to an interactive table.\"\n",
              "              style=\"display:none;\">\n",
              "        \n",
              "  <svg xmlns=\"http://www.w3.org/2000/svg\" height=\"24px\"viewBox=\"0 0 24 24\"\n",
              "       width=\"24px\">\n",
              "    <path d=\"M0 0h24v24H0V0z\" fill=\"none\"/>\n",
              "    <path d=\"M18.56 5.44l.94 2.06.94-2.06 2.06-.94-2.06-.94-.94-2.06-.94 2.06-2.06.94zm-11 1L8.5 8.5l.94-2.06 2.06-.94-2.06-.94L8.5 2.5l-.94 2.06-2.06.94zm10 10l.94 2.06.94-2.06 2.06-.94-2.06-.94-.94-2.06-.94 2.06-2.06.94z\"/><path d=\"M17.41 7.96l-1.37-1.37c-.4-.4-.92-.59-1.43-.59-.52 0-1.04.2-1.43.59L10.3 9.45l-7.72 7.72c-.78.78-.78 2.05 0 2.83L4 21.41c.39.39.9.59 1.41.59.51 0 1.02-.2 1.41-.59l7.78-7.78 2.81-2.81c.8-.78.8-2.07 0-2.86zM5.41 20L4 18.59l7.72-7.72 1.47 1.35L5.41 20z\"/>\n",
              "  </svg>\n",
              "      </button>\n",
              "      \n",
              "  <style>\n",
              "    .colab-df-container {\n",
              "      display:flex;\n",
              "      flex-wrap:wrap;\n",
              "      gap: 12px;\n",
              "    }\n",
              "\n",
              "    .colab-df-convert {\n",
              "      background-color: #E8F0FE;\n",
              "      border: none;\n",
              "      border-radius: 50%;\n",
              "      cursor: pointer;\n",
              "      display: none;\n",
              "      fill: #1967D2;\n",
              "      height: 32px;\n",
              "      padding: 0 0 0 0;\n",
              "      width: 32px;\n",
              "    }\n",
              "\n",
              "    .colab-df-convert:hover {\n",
              "      background-color: #E2EBFA;\n",
              "      box-shadow: 0px 1px 2px rgba(60, 64, 67, 0.3), 0px 1px 3px 1px rgba(60, 64, 67, 0.15);\n",
              "      fill: #174EA6;\n",
              "    }\n",
              "\n",
              "    [theme=dark] .colab-df-convert {\n",
              "      background-color: #3B4455;\n",
              "      fill: #D2E3FC;\n",
              "    }\n",
              "\n",
              "    [theme=dark] .colab-df-convert:hover {\n",
              "      background-color: #434B5C;\n",
              "      box-shadow: 0px 1px 3px 1px rgba(0, 0, 0, 0.15);\n",
              "      filter: drop-shadow(0px 1px 2px rgba(0, 0, 0, 0.3));\n",
              "      fill: #FFFFFF;\n",
              "    }\n",
              "  </style>\n",
              "\n",
              "      <script>\n",
              "        const buttonEl =\n",
              "          document.querySelector('#df-e42fcd66-9b17-4c47-833c-a1171bb39abc button.colab-df-convert');\n",
              "        buttonEl.style.display =\n",
              "          google.colab.kernel.accessAllowed ? 'block' : 'none';\n",
              "\n",
              "        async function convertToInteractive(key) {\n",
              "          const element = document.querySelector('#df-e42fcd66-9b17-4c47-833c-a1171bb39abc');\n",
              "          const dataTable =\n",
              "            await google.colab.kernel.invokeFunction('convertToInteractive',\n",
              "                                                     [key], {});\n",
              "          if (!dataTable) return;\n",
              "\n",
              "          const docLinkHtml = 'Like what you see? Visit the ' +\n",
              "            '<a target=\"_blank\" href=https://colab.research.google.com/notebooks/data_table.ipynb>data table notebook</a>'\n",
              "            + ' to learn more about interactive tables.';\n",
              "          element.innerHTML = '';\n",
              "          dataTable['output_type'] = 'display_data';\n",
              "          await google.colab.output.renderOutput(dataTable, element);\n",
              "          const docLink = document.createElement('div');\n",
              "          docLink.innerHTML = docLinkHtml;\n",
              "          element.appendChild(docLink);\n",
              "        }\n",
              "      </script>\n",
              "    </div>\n",
              "  </div>\n",
              "  "
            ]
          },
          "metadata": {},
          "execution_count": 4
        }
      ]
    },
    {
      "cell_type": "code",
      "source": [
        "df.info()"
      ],
      "metadata": {
        "execution": {
          "iopub.status.busy": "2023-05-13T09:29:56.62482Z",
          "iopub.execute_input": "2023-05-13T09:29:56.625222Z",
          "iopub.status.idle": "2023-05-13T09:29:56.674571Z",
          "shell.execute_reply.started": "2023-05-13T09:29:56.625185Z",
          "shell.execute_reply": "2023-05-13T09:29:56.67378Z"
        },
        "trusted": true,
        "colab": {
          "base_uri": "https://localhost:8080/"
        },
        "id": "WYL3O6YRPOw-",
        "outputId": "ac93b5b4-ac80-4477-bb33-a4fce8cff279"
      },
      "execution_count": null,
      "outputs": [
        {
          "output_type": "stream",
          "name": "stdout",
          "text": [
            "<class 'pandas.core.frame.DataFrame'>\n",
            "RangeIndex: 100000 entries, 0 to 99999\n",
            "Data columns (total 9 columns):\n",
            " #   Column               Non-Null Count   Dtype  \n",
            "---  ------               --------------   -----  \n",
            " 0   gender               100000 non-null  object \n",
            " 1   age                  100000 non-null  float64\n",
            " 2   hypertension         100000 non-null  int64  \n",
            " 3   heart_disease        100000 non-null  int64  \n",
            " 4   smoking_history      100000 non-null  object \n",
            " 5   bmi                  100000 non-null  float64\n",
            " 6   HbA1c_level          100000 non-null  float64\n",
            " 7   blood_glucose_level  100000 non-null  int64  \n",
            " 8   diabetes             100000 non-null  int64  \n",
            "dtypes: float64(3), int64(4), object(2)\n",
            "memory usage: 6.9+ MB\n"
          ]
        }
      ]
    },
    {
      "cell_type": "markdown",
      "source": [
        "# ***Remove Duplicates in Data***"
      ],
      "metadata": {
        "id": "-whamoNehia8"
      }
    },
    {
      "cell_type": "code",
      "source": [
        "duplicated_sum = df.duplicated().sum()\n",
        "print(f\"No of Duplicate rows: {duplicated_sum} \")"
      ],
      "metadata": {
        "execution": {
          "iopub.status.busy": "2023-05-13T09:29:56.675583Z",
          "iopub.execute_input": "2023-05-13T09:29:56.676135Z",
          "iopub.status.idle": "2023-05-13T09:29:56.709922Z",
          "shell.execute_reply.started": "2023-05-13T09:29:56.676106Z",
          "shell.execute_reply": "2023-05-13T09:29:56.709195Z"
        },
        "trusted": true,
        "colab": {
          "base_uri": "https://localhost:8080/"
        },
        "id": "tHvXskJ7POw_",
        "outputId": "08d05e48-4853-443c-deea-2e310131549b"
      },
      "execution_count": null,
      "outputs": [
        {
          "output_type": "stream",
          "name": "stdout",
          "text": [
            "No of Duplicate rows: 3854 \n"
          ]
        }
      ]
    },
    {
      "cell_type": "code",
      "source": [
        "df1 = df.drop_duplicates()\n",
        "df1.shape"
      ],
      "metadata": {
        "execution": {
          "iopub.status.busy": "2023-05-13T09:29:56.710922Z",
          "iopub.execute_input": "2023-05-13T09:29:56.711701Z",
          "iopub.status.idle": "2023-05-13T09:29:56.749079Z",
          "shell.execute_reply.started": "2023-05-13T09:29:56.711672Z",
          "shell.execute_reply": "2023-05-13T09:29:56.748122Z"
        },
        "trusted": true,
        "colab": {
          "base_uri": "https://localhost:8080/"
        },
        "id": "QAglZuplPOw_",
        "outputId": "da2a8a69-418b-4a9a-9b7e-55537f36e88f"
      },
      "execution_count": null,
      "outputs": [
        {
          "output_type": "execute_result",
          "data": {
            "text/plain": [
              "(96146, 9)"
            ]
          },
          "metadata": {},
          "execution_count": 7
        }
      ]
    },
    {
      "cell_type": "code",
      "source": [
        "df1.info()"
      ],
      "metadata": {
        "execution": {
          "iopub.status.busy": "2023-05-13T09:29:56.750453Z",
          "iopub.execute_input": "2023-05-13T09:29:56.750763Z",
          "iopub.status.idle": "2023-05-13T09:29:56.792827Z",
          "shell.execute_reply.started": "2023-05-13T09:29:56.750738Z",
          "shell.execute_reply": "2023-05-13T09:29:56.791664Z"
        },
        "trusted": true,
        "colab": {
          "base_uri": "https://localhost:8080/"
        },
        "id": "JfmZ5FvhPOxA",
        "outputId": "47de2f24-bc9b-4e88-dba6-d24d0eea31e8"
      },
      "execution_count": null,
      "outputs": [
        {
          "output_type": "stream",
          "name": "stdout",
          "text": [
            "<class 'pandas.core.frame.DataFrame'>\n",
            "Int64Index: 96146 entries, 0 to 99999\n",
            "Data columns (total 9 columns):\n",
            " #   Column               Non-Null Count  Dtype  \n",
            "---  ------               --------------  -----  \n",
            " 0   gender               96146 non-null  object \n",
            " 1   age                  96146 non-null  float64\n",
            " 2   hypertension         96146 non-null  int64  \n",
            " 3   heart_disease        96146 non-null  int64  \n",
            " 4   smoking_history      96146 non-null  object \n",
            " 5   bmi                  96146 non-null  float64\n",
            " 6   HbA1c_level          96146 non-null  float64\n",
            " 7   blood_glucose_level  96146 non-null  int64  \n",
            " 8   diabetes             96146 non-null  int64  \n",
            "dtypes: float64(3), int64(4), object(2)\n",
            "memory usage: 7.3+ MB\n"
          ]
        }
      ]
    },
    {
      "cell_type": "code",
      "source": [
        "# Let's check for unique columns in object columns. \n",
        "\n",
        "o = (df1.dtypes == 'object')\n",
        "\n",
        "object_cols = o[o].index \n",
        "print(f\"Categorical Columns : {object_cols}\")"
      ],
      "metadata": {
        "execution": {
          "iopub.status.busy": "2023-05-13T09:29:56.794429Z",
          "iopub.execute_input": "2023-05-13T09:29:56.794768Z",
          "iopub.status.idle": "2023-05-13T09:29:56.801091Z",
          "shell.execute_reply.started": "2023-05-13T09:29:56.79474Z",
          "shell.execute_reply": "2023-05-13T09:29:56.800095Z"
        },
        "trusted": true,
        "colab": {
          "base_uri": "https://localhost:8080/"
        },
        "id": "e7Hw53slPOxA",
        "outputId": "9468ddb3-9c77-4493-f0e2-3bd67e4b68c5"
      },
      "execution_count": null,
      "outputs": [
        {
          "output_type": "stream",
          "name": "stdout",
          "text": [
            "Categorical Columns : Index(['gender', 'smoking_history'], dtype='object')\n"
          ]
        }
      ]
    },
    {
      "cell_type": "code",
      "source": [
        "def unique_cols(df , object_cols) : \n",
        "    \n",
        "    for i in df[object_cols] : \n",
        "        print(f\"{i} : {df[i].unique()}\") \n",
        "        \n",
        "unique_cols(df1 , object_cols)    "
      ],
      "metadata": {
        "execution": {
          "iopub.status.busy": "2023-05-13T09:29:56.804363Z",
          "iopub.execute_input": "2023-05-13T09:29:56.805009Z",
          "iopub.status.idle": "2023-05-13T09:29:56.82818Z",
          "shell.execute_reply.started": "2023-05-13T09:29:56.804974Z",
          "shell.execute_reply": "2023-05-13T09:29:56.827003Z"
        },
        "trusted": true,
        "colab": {
          "base_uri": "https://localhost:8080/"
        },
        "id": "cXb8y8adPOxB",
        "outputId": "67e4ed9e-1b3b-4231-de49-e8844db93280"
      },
      "execution_count": null,
      "outputs": [
        {
          "output_type": "stream",
          "name": "stdout",
          "text": [
            "gender : ['Female' 'Male' 'Other']\n",
            "smoking_history : ['never' 'No Info' 'current' 'former' 'ever' 'not current']\n"
          ]
        }
      ]
    },
    {
      "cell_type": "code",
      "source": [
        "# Let's check for value counts in gender column. \n",
        "\n",
        "df1['gender'].value_counts()"
      ],
      "metadata": {
        "execution": {
          "iopub.status.busy": "2023-05-13T09:29:56.829293Z",
          "iopub.execute_input": "2023-05-13T09:29:56.829619Z",
          "iopub.status.idle": "2023-05-13T09:29:56.844471Z",
          "shell.execute_reply.started": "2023-05-13T09:29:56.829576Z",
          "shell.execute_reply": "2023-05-13T09:29:56.843334Z"
        },
        "trusted": true,
        "colab": {
          "base_uri": "https://localhost:8080/"
        },
        "id": "Rv6PntYmPOxC",
        "outputId": "3810aa97-c770-4f79-daf5-39986daabf26"
      },
      "execution_count": null,
      "outputs": [
        {
          "output_type": "execute_result",
          "data": {
            "text/plain": [
              "Female    56161\n",
              "Male      39967\n",
              "Other        18\n",
              "Name: gender, dtype: int64"
            ]
          },
          "metadata": {},
          "execution_count": 11
        }
      ]
    },
    {
      "cell_type": "markdown",
      "source": [
        "# ***Encode gender and smoking_history Columns***"
      ],
      "metadata": {
        "id": "85XiigpIhUhd"
      }
    },
    {
      "cell_type": "code",
      "source": [
        "# Let's encode gender columns using label encoder. \n",
        "\n",
        "from sklearn.preprocessing import LabelEncoder\n",
        "\n",
        "le = LabelEncoder()\n",
        "\n",
        "df1['gender'] = le.fit_transform(df1['gender'])"
      ],
      "metadata": {
        "execution": {
          "iopub.status.busy": "2023-05-13T09:29:56.845919Z",
          "iopub.execute_input": "2023-05-13T09:29:56.846244Z",
          "iopub.status.idle": "2023-05-13T09:29:56.877102Z",
          "shell.execute_reply.started": "2023-05-13T09:29:56.846208Z",
          "shell.execute_reply": "2023-05-13T09:29:56.875998Z"
        },
        "trusted": true,
        "id": "Q8NGYULsPOxD"
      },
      "execution_count": null,
      "outputs": []
    },
    {
      "cell_type": "code",
      "source": [
        "# Check for value count in smoking_history. \n",
        "\n",
        "df1['smoking_history'].value_counts()"
      ],
      "metadata": {
        "execution": {
          "iopub.status.busy": "2023-05-13T09:29:56.878781Z",
          "iopub.execute_input": "2023-05-13T09:29:56.879172Z",
          "iopub.status.idle": "2023-05-13T09:29:56.896123Z",
          "shell.execute_reply.started": "2023-05-13T09:29:56.879143Z",
          "shell.execute_reply": "2023-05-13T09:29:56.894942Z"
        },
        "trusted": true,
        "colab": {
          "base_uri": "https://localhost:8080/"
        },
        "id": "naHcE4UOPOxD",
        "outputId": "ef0b35a6-9325-460b-92cb-3310833bf93a"
      },
      "execution_count": null,
      "outputs": [
        {
          "output_type": "execute_result",
          "data": {
            "text/plain": [
              "never          34398\n",
              "No Info        32887\n",
              "former          9299\n",
              "current         9197\n",
              "not current     6367\n",
              "ever            3998\n",
              "Name: smoking_history, dtype: int64"
            ]
          },
          "metadata": {},
          "execution_count": 13
        }
      ]
    },
    {
      "cell_type": "code",
      "source": [
        "# Let's encode smoking_history using map function. \n",
        "\n",
        "df1['smoking_history'] = df1['smoking_history'].map({\n",
        "    'No Info' : 0 , 'never' : 1 , 'former' : 2 , 'current' : 3 , 'not current' : 4 , 'ever' : 5\n",
        "})"
      ],
      "metadata": {
        "execution": {
          "iopub.status.busy": "2023-05-13T09:29:56.89757Z",
          "iopub.execute_input": "2023-05-13T09:29:56.897887Z",
          "iopub.status.idle": "2023-05-13T09:29:56.911743Z",
          "shell.execute_reply.started": "2023-05-13T09:29:56.89786Z",
          "shell.execute_reply": "2023-05-13T09:29:56.910408Z"
        },
        "trusted": true,
        "id": "z2TNLuHwPOxE"
      },
      "execution_count": null,
      "outputs": []
    },
    {
      "cell_type": "code",
      "source": [
        "df1.columns"
      ],
      "metadata": {
        "colab": {
          "base_uri": "https://localhost:8080/"
        },
        "id": "FQ47YU9USmrE",
        "outputId": "099cbb04-6d47-434e-eb1a-c5dc3786c607"
      },
      "execution_count": null,
      "outputs": [
        {
          "output_type": "execute_result",
          "data": {
            "text/plain": [
              "Index(['gender', 'age', 'hypertension', 'heart_disease', 'smoking_history',\n",
              "       'bmi', 'HbA1c_level', 'blood_glucose_level', 'diabetes'],\n",
              "      dtype='object')"
            ]
          },
          "metadata": {},
          "execution_count": 15
        }
      ]
    },
    {
      "cell_type": "markdown",
      "source": [
        "# ***Show correlation between Columns***"
      ],
      "metadata": {
        "id": "lxlnNn0_hCO0"
      }
    },
    {
      "cell_type": "code",
      "source": [
        "# Let's check correlation of columns with label. \n",
        "\n",
        "correlation = df1.corr()\n",
        "\n",
        "correlation"
      ],
      "metadata": {
        "execution": {
          "iopub.status.busy": "2023-05-13T09:29:56.913133Z",
          "iopub.execute_input": "2023-05-13T09:29:56.913489Z",
          "iopub.status.idle": "2023-05-13T09:29:56.949025Z",
          "shell.execute_reply.started": "2023-05-13T09:29:56.913462Z",
          "shell.execute_reply": "2023-05-13T09:29:56.947895Z"
        },
        "trusted": true,
        "colab": {
          "base_uri": "https://localhost:8080/",
          "height": 331
        },
        "id": "3abZ06n_POxE",
        "outputId": "5bdf06cd-244c-464d-c138-3f4817e322da"
      },
      "execution_count": null,
      "outputs": [
        {
          "output_type": "execute_result",
          "data": {
            "text/plain": [
              "                       gender       age  hypertension  heart_disease  \\\n",
              "gender               1.000000 -0.028968      0.014007       0.078312   \n",
              "age                 -0.028968  1.000000      0.257305       0.238451   \n",
              "hypertension         0.014007  0.257305      1.000000       0.119982   \n",
              "heart_disease        0.078312  0.238451      0.119982       1.000000   \n",
              "smoking_history      0.002275  0.235115      0.072546       0.064355   \n",
              "bmi                 -0.023461  0.344797      0.148111       0.061376   \n",
              "HbA1c_level          0.019836  0.106719      0.081441       0.068140   \n",
              "blood_glucose_level  0.017830  0.114317      0.084834       0.070832   \n",
              "diabetes             0.037613  0.264927      0.195710       0.170711   \n",
              "\n",
              "                     smoking_history       bmi  HbA1c_level  \\\n",
              "gender                      0.002275 -0.023461     0.019836   \n",
              "age                         0.235115  0.344797     0.106719   \n",
              "hypertension                0.072546  0.148111     0.081441   \n",
              "heart_disease               0.064355  0.061376     0.068140   \n",
              "smoking_history             1.000000  0.166962     0.034864   \n",
              "bmi                         0.166962  1.000000     0.084423   \n",
              "HbA1c_level                 0.034864  0.084423     1.000000   \n",
              "blood_glucose_level         0.037625  0.092543     0.171615   \n",
              "diabetes                    0.087470  0.214932     0.406408   \n",
              "\n",
              "                     blood_glucose_level  diabetes  \n",
              "gender                          0.017830  0.037613  \n",
              "age                             0.114317  0.264927  \n",
              "hypertension                    0.084834  0.195710  \n",
              "heart_disease                   0.070832  0.170711  \n",
              "smoking_history                 0.037625  0.087470  \n",
              "bmi                             0.092543  0.214932  \n",
              "HbA1c_level                     0.171615  0.406408  \n",
              "blood_glucose_level             1.000000  0.424336  \n",
              "diabetes                        0.424336  1.000000  "
            ],
            "text/html": [
              "\n",
              "  <div id=\"df-d1f90d9c-ccf7-4f63-8a9d-e36cd43a117e\">\n",
              "    <div class=\"colab-df-container\">\n",
              "      <div>\n",
              "<style scoped>\n",
              "    .dataframe tbody tr th:only-of-type {\n",
              "        vertical-align: middle;\n",
              "    }\n",
              "\n",
              "    .dataframe tbody tr th {\n",
              "        vertical-align: top;\n",
              "    }\n",
              "\n",
              "    .dataframe thead th {\n",
              "        text-align: right;\n",
              "    }\n",
              "</style>\n",
              "<table border=\"1\" class=\"dataframe\">\n",
              "  <thead>\n",
              "    <tr style=\"text-align: right;\">\n",
              "      <th></th>\n",
              "      <th>gender</th>\n",
              "      <th>age</th>\n",
              "      <th>hypertension</th>\n",
              "      <th>heart_disease</th>\n",
              "      <th>smoking_history</th>\n",
              "      <th>bmi</th>\n",
              "      <th>HbA1c_level</th>\n",
              "      <th>blood_glucose_level</th>\n",
              "      <th>diabetes</th>\n",
              "    </tr>\n",
              "  </thead>\n",
              "  <tbody>\n",
              "    <tr>\n",
              "      <th>gender</th>\n",
              "      <td>1.000000</td>\n",
              "      <td>-0.028968</td>\n",
              "      <td>0.014007</td>\n",
              "      <td>0.078312</td>\n",
              "      <td>0.002275</td>\n",
              "      <td>-0.023461</td>\n",
              "      <td>0.019836</td>\n",
              "      <td>0.017830</td>\n",
              "      <td>0.037613</td>\n",
              "    </tr>\n",
              "    <tr>\n",
              "      <th>age</th>\n",
              "      <td>-0.028968</td>\n",
              "      <td>1.000000</td>\n",
              "      <td>0.257305</td>\n",
              "      <td>0.238451</td>\n",
              "      <td>0.235115</td>\n",
              "      <td>0.344797</td>\n",
              "      <td>0.106719</td>\n",
              "      <td>0.114317</td>\n",
              "      <td>0.264927</td>\n",
              "    </tr>\n",
              "    <tr>\n",
              "      <th>hypertension</th>\n",
              "      <td>0.014007</td>\n",
              "      <td>0.257305</td>\n",
              "      <td>1.000000</td>\n",
              "      <td>0.119982</td>\n",
              "      <td>0.072546</td>\n",
              "      <td>0.148111</td>\n",
              "      <td>0.081441</td>\n",
              "      <td>0.084834</td>\n",
              "      <td>0.195710</td>\n",
              "    </tr>\n",
              "    <tr>\n",
              "      <th>heart_disease</th>\n",
              "      <td>0.078312</td>\n",
              "      <td>0.238451</td>\n",
              "      <td>0.119982</td>\n",
              "      <td>1.000000</td>\n",
              "      <td>0.064355</td>\n",
              "      <td>0.061376</td>\n",
              "      <td>0.068140</td>\n",
              "      <td>0.070832</td>\n",
              "      <td>0.170711</td>\n",
              "    </tr>\n",
              "    <tr>\n",
              "      <th>smoking_history</th>\n",
              "      <td>0.002275</td>\n",
              "      <td>0.235115</td>\n",
              "      <td>0.072546</td>\n",
              "      <td>0.064355</td>\n",
              "      <td>1.000000</td>\n",
              "      <td>0.166962</td>\n",
              "      <td>0.034864</td>\n",
              "      <td>0.037625</td>\n",
              "      <td>0.087470</td>\n",
              "    </tr>\n",
              "    <tr>\n",
              "      <th>bmi</th>\n",
              "      <td>-0.023461</td>\n",
              "      <td>0.344797</td>\n",
              "      <td>0.148111</td>\n",
              "      <td>0.061376</td>\n",
              "      <td>0.166962</td>\n",
              "      <td>1.000000</td>\n",
              "      <td>0.084423</td>\n",
              "      <td>0.092543</td>\n",
              "      <td>0.214932</td>\n",
              "    </tr>\n",
              "    <tr>\n",
              "      <th>HbA1c_level</th>\n",
              "      <td>0.019836</td>\n",
              "      <td>0.106719</td>\n",
              "      <td>0.081441</td>\n",
              "      <td>0.068140</td>\n",
              "      <td>0.034864</td>\n",
              "      <td>0.084423</td>\n",
              "      <td>1.000000</td>\n",
              "      <td>0.171615</td>\n",
              "      <td>0.406408</td>\n",
              "    </tr>\n",
              "    <tr>\n",
              "      <th>blood_glucose_level</th>\n",
              "      <td>0.017830</td>\n",
              "      <td>0.114317</td>\n",
              "      <td>0.084834</td>\n",
              "      <td>0.070832</td>\n",
              "      <td>0.037625</td>\n",
              "      <td>0.092543</td>\n",
              "      <td>0.171615</td>\n",
              "      <td>1.000000</td>\n",
              "      <td>0.424336</td>\n",
              "    </tr>\n",
              "    <tr>\n",
              "      <th>diabetes</th>\n",
              "      <td>0.037613</td>\n",
              "      <td>0.264927</td>\n",
              "      <td>0.195710</td>\n",
              "      <td>0.170711</td>\n",
              "      <td>0.087470</td>\n",
              "      <td>0.214932</td>\n",
              "      <td>0.406408</td>\n",
              "      <td>0.424336</td>\n",
              "      <td>1.000000</td>\n",
              "    </tr>\n",
              "  </tbody>\n",
              "</table>\n",
              "</div>\n",
              "      <button class=\"colab-df-convert\" onclick=\"convertToInteractive('df-d1f90d9c-ccf7-4f63-8a9d-e36cd43a117e')\"\n",
              "              title=\"Convert this dataframe to an interactive table.\"\n",
              "              style=\"display:none;\">\n",
              "        \n",
              "  <svg xmlns=\"http://www.w3.org/2000/svg\" height=\"24px\"viewBox=\"0 0 24 24\"\n",
              "       width=\"24px\">\n",
              "    <path d=\"M0 0h24v24H0V0z\" fill=\"none\"/>\n",
              "    <path d=\"M18.56 5.44l.94 2.06.94-2.06 2.06-.94-2.06-.94-.94-2.06-.94 2.06-2.06.94zm-11 1L8.5 8.5l.94-2.06 2.06-.94-2.06-.94L8.5 2.5l-.94 2.06-2.06.94zm10 10l.94 2.06.94-2.06 2.06-.94-2.06-.94-.94-2.06-.94 2.06-2.06.94z\"/><path d=\"M17.41 7.96l-1.37-1.37c-.4-.4-.92-.59-1.43-.59-.52 0-1.04.2-1.43.59L10.3 9.45l-7.72 7.72c-.78.78-.78 2.05 0 2.83L4 21.41c.39.39.9.59 1.41.59.51 0 1.02-.2 1.41-.59l7.78-7.78 2.81-2.81c.8-.78.8-2.07 0-2.86zM5.41 20L4 18.59l7.72-7.72 1.47 1.35L5.41 20z\"/>\n",
              "  </svg>\n",
              "      </button>\n",
              "      \n",
              "  <style>\n",
              "    .colab-df-container {\n",
              "      display:flex;\n",
              "      flex-wrap:wrap;\n",
              "      gap: 12px;\n",
              "    }\n",
              "\n",
              "    .colab-df-convert {\n",
              "      background-color: #E8F0FE;\n",
              "      border: none;\n",
              "      border-radius: 50%;\n",
              "      cursor: pointer;\n",
              "      display: none;\n",
              "      fill: #1967D2;\n",
              "      height: 32px;\n",
              "      padding: 0 0 0 0;\n",
              "      width: 32px;\n",
              "    }\n",
              "\n",
              "    .colab-df-convert:hover {\n",
              "      background-color: #E2EBFA;\n",
              "      box-shadow: 0px 1px 2px rgba(60, 64, 67, 0.3), 0px 1px 3px 1px rgba(60, 64, 67, 0.15);\n",
              "      fill: #174EA6;\n",
              "    }\n",
              "\n",
              "    [theme=dark] .colab-df-convert {\n",
              "      background-color: #3B4455;\n",
              "      fill: #D2E3FC;\n",
              "    }\n",
              "\n",
              "    [theme=dark] .colab-df-convert:hover {\n",
              "      background-color: #434B5C;\n",
              "      box-shadow: 0px 1px 3px 1px rgba(0, 0, 0, 0.15);\n",
              "      filter: drop-shadow(0px 1px 2px rgba(0, 0, 0, 0.3));\n",
              "      fill: #FFFFFF;\n",
              "    }\n",
              "  </style>\n",
              "\n",
              "      <script>\n",
              "        const buttonEl =\n",
              "          document.querySelector('#df-d1f90d9c-ccf7-4f63-8a9d-e36cd43a117e button.colab-df-convert');\n",
              "        buttonEl.style.display =\n",
              "          google.colab.kernel.accessAllowed ? 'block' : 'none';\n",
              "\n",
              "        async function convertToInteractive(key) {\n",
              "          const element = document.querySelector('#df-d1f90d9c-ccf7-4f63-8a9d-e36cd43a117e');\n",
              "          const dataTable =\n",
              "            await google.colab.kernel.invokeFunction('convertToInteractive',\n",
              "                                                     [key], {});\n",
              "          if (!dataTable) return;\n",
              "\n",
              "          const docLinkHtml = 'Like what you see? Visit the ' +\n",
              "            '<a target=\"_blank\" href=https://colab.research.google.com/notebooks/data_table.ipynb>data table notebook</a>'\n",
              "            + ' to learn more about interactive tables.';\n",
              "          element.innerHTML = '';\n",
              "          dataTable['output_type'] = 'display_data';\n",
              "          await google.colab.output.renderOutput(dataTable, element);\n",
              "          const docLink = document.createElement('div');\n",
              "          docLink.innerHTML = docLinkHtml;\n",
              "          element.appendChild(docLink);\n",
              "        }\n",
              "      </script>\n",
              "    </div>\n",
              "  </div>\n",
              "  "
            ]
          },
          "metadata": {},
          "execution_count": 16
        }
      ]
    },
    {
      "cell_type": "code",
      "source": [
        "plt.figure(figsize = (15, 10))\n",
        "sns.heatmap(correlation, cmap = 'viridis', annot = True)"
      ],
      "metadata": {
        "colab": {
          "base_uri": "https://localhost:8080/",
          "height": 979
        },
        "id": "2Y_THQUhZXIE",
        "outputId": "5d46e5d4-76a7-4558-83ce-38f626357599"
      },
      "execution_count": null,
      "outputs": [
        {
          "output_type": "execute_result",
          "data": {
            "text/plain": [
              "<Axes: >"
            ]
          },
          "metadata": {},
          "execution_count": 17
        },
        {
          "output_type": "display_data",
          "data": {
            "text/plain": [
              "<Figure size 1500x1000 with 2 Axes>"
            ],
            "image/png": "[encoded data removed]"
          },
          "metadata": {}
        }
      ]
    },
    {
      "cell_type": "code",
      "source": [
        "label_correlation = correlation['diabetes'].drop('diabetes')\n",
        "sorted_correlation = label_correlation.abs().sort_values(ascending = False)\n",
        "print(sorted_correlation)"
      ],
      "metadata": {
        "execution": {
          "iopub.status.busy": "2023-05-13T09:29:56.950823Z",
          "iopub.execute_input": "2023-05-13T09:29:56.951798Z",
          "iopub.status.idle": "2023-05-13T09:29:56.960477Z",
          "shell.execute_reply.started": "2023-05-13T09:29:56.951756Z",
          "shell.execute_reply": "2023-05-13T09:29:56.959342Z"
        },
        "trusted": true,
        "colab": {
          "base_uri": "https://localhost:8080/"
        },
        "id": "T1CRS8eNPOxE",
        "outputId": "2dcb6fad-3c1e-4ff2-a102-98f20d5ded83"
      },
      "execution_count": null,
      "outputs": [
        {
          "output_type": "stream",
          "name": "stdout",
          "text": [
            "blood_glucose_level    0.424336\n",
            "HbA1c_level            0.406408\n",
            "age                    0.264927\n",
            "bmi                    0.214932\n",
            "hypertension           0.195710\n",
            "heart_disease          0.170711\n",
            "smoking_history        0.087470\n",
            "gender                 0.037613\n",
            "Name: diabetes, dtype: float64\n"
          ]
        }
      ]
    },
    {
      "cell_type": "code",
      "source": [
        "plt.figure(figsize = (8, 6))\n",
        "sns.barplot(x=sorted_correlation, y=sorted_correlation.index, color='blue')\n",
        "plt.title('Absolute Correlation Coefficients')\n",
        "plt.xlabel('Correlation Coefficient')\n",
        "plt.ylabel('Feature')"
      ],
      "metadata": {
        "colab": {
          "base_uri": "https://localhost:8080/",
          "height": 582
        },
        "id": "2gPzzwdOk4Fo",
        "outputId": "a9e443bc-ae7e-4205-9a22-b85f822f85b6"
      },
      "execution_count": null,
      "outputs": [
        {
          "output_type": "execute_result",
          "data": {
            "text/plain": [
              "Text(0, 0.5, 'Feature')"
            ]
          },
          "metadata": {},
          "execution_count": 19
        },
        {
          "output_type": "display_data",
          "data": {
            "text/plain": [
              "<Figure size 800x600 with 1 Axes>"
            ],
            "image/png": "[encoded data removed]"
          },
          "metadata": {}
        }
      ]
    },
    {
      "cell_type": "markdown",
      "source": [
        "# ***Split Data to Features and Label***"
      ],
      "metadata": {
        "id": "42y-dzHYgzKt"
      }
    },
    {
      "cell_type": "code",
      "source": [
        "features = df1[['gender', 'age', 'hypertension', 'heart_disease', 'smoking_history','bmi',\n",
        "                'HbA1c_level', 'blood_glucose_level',]]"
      ],
      "metadata": {
        "execution": {
          "iopub.status.busy": "2023-05-13T09:31:24.152646Z",
          "iopub.execute_input": "2023-05-13T09:31:24.153041Z",
          "iopub.status.idle": "2023-05-13T09:31:24.162699Z",
          "shell.execute_reply.started": "2023-05-13T09:31:24.15301Z",
          "shell.execute_reply": "2023-05-13T09:31:24.161698Z"
        },
        "trusted": true,
        "id": "KQMw5DTCPOxF"
      },
      "execution_count": null,
      "outputs": []
    },
    {
      "cell_type": "code",
      "source": [
        "features.head()"
      ],
      "metadata": {
        "colab": {
          "base_uri": "https://localhost:8080/",
          "height": 206
        },
        "id": "SsZbt5QPTTKT",
        "outputId": "3d0adcde-3324-4c70-9801-c2b06cf1fc9f"
      },
      "execution_count": null,
      "outputs": [
        {
          "output_type": "execute_result",
          "data": {
            "text/plain": [
              "   gender   age  hypertension  heart_disease  smoking_history    bmi  \\\n",
              "0       0  80.0             0              1                1  25.19   \n",
              "1       0  54.0             0              0                0  27.32   \n",
              "2       1  28.0             0              0                1  27.32   \n",
              "3       0  36.0             0              0                3  23.45   \n",
              "4       1  76.0             1              1                3  20.14   \n",
              "\n",
              "   HbA1c_level  blood_glucose_level  \n",
              "0          6.6                  140  \n",
              "1          6.6                   80  \n",
              "2          5.7                  158  \n",
              "3          5.0                  155  \n",
              "4          4.8                  155  "
            ],
            "text/html": [
              "\n",
              "  <div id=\"df-49803b33-9f3b-49c1-82bd-376df45cf3db\">\n",
              "    <div class=\"colab-df-container\">\n",
              "      <div>\n",
              "<style scoped>\n",
              "    .dataframe tbody tr th:only-of-type {\n",
              "        vertical-align: middle;\n",
              "    }\n",
              "\n",
              "    .dataframe tbody tr th {\n",
              "        vertical-align: top;\n",
              "    }\n",
              "\n",
              "    .dataframe thead th {\n",
              "        text-align: right;\n",
              "    }\n",
              "</style>\n",
              "<table border=\"1\" class=\"dataframe\">\n",
              "  <thead>\n",
              "    <tr style=\"text-align: right;\">\n",
              "      <th></th>\n",
              "      <th>gender</th>\n",
              "      <th>age</th>\n",
              "      <th>hypertension</th>\n",
              "      <th>heart_disease</th>\n",
              "      <th>smoking_history</th>\n",
              "      <th>bmi</th>\n",
              "      <th>HbA1c_level</th>\n",
              "      <th>blood_glucose_level</th>\n",
              "    </tr>\n",
              "  </thead>\n",
              "  <tbody>\n",
              "    <tr>\n",
              "      <th>0</th>\n",
              "      <td>0</td>\n",
              "      <td>80.0</td>\n",
              "      <td>0</td>\n",
              "      <td>1</td>\n",
              "      <td>1</td>\n",
              "      <td>25.19</td>\n",
              "      <td>6.6</td>\n",
              "      <td>140</td>\n",
              "    </tr>\n",
              "    <tr>\n",
              "      <th>1</th>\n",
              "      <td>0</td>\n",
              "      <td>54.0</td>\n",
              "      <td>0</td>\n",
              "      <td>0</td>\n",
              "      <td>0</td>\n",
              "      <td>27.32</td>\n",
              "      <td>6.6</td>\n",
              "      <td>80</td>\n",
              "    </tr>\n",
              "    <tr>\n",
              "      <th>2</th>\n",
              "      <td>1</td>\n",
              "      <td>28.0</td>\n",
              "      <td>0</td>\n",
              "      <td>0</td>\n",
              "      <td>1</td>\n",
              "      <td>27.32</td>\n",
              "      <td>5.7</td>\n",
              "      <td>158</td>\n",
              "    </tr>\n",
              "    <tr>\n",
              "      <th>3</th>\n",
              "      <td>0</td>\n",
              "      <td>36.0</td>\n",
              "      <td>0</td>\n",
              "      <td>0</td>\n",
              "      <td>3</td>\n",
              "      <td>23.45</td>\n",
              "      <td>5.0</td>\n",
              "      <td>155</td>\n",
              "    </tr>\n",
              "    <tr>\n",
              "      <th>4</th>\n",
              "      <td>1</td>\n",
              "      <td>76.0</td>\n",
              "      <td>1</td>\n",
              "      <td>1</td>\n",
              "      <td>3</td>\n",
              "      <td>20.14</td>\n",
              "      <td>4.8</td>\n",
              "      <td>155</td>\n",
              "    </tr>\n",
              "  </tbody>\n",
              "</table>\n",
              "</div>\n",
              "      <button class=\"colab-df-convert\" onclick=\"convertToInteractive('df-49803b33-9f3b-49c1-82bd-376df45cf3db')\"\n",
              "              title=\"Convert this dataframe to an interactive table.\"\n",
              "              style=\"display:none;\">\n",
              "        \n",
              "  <svg xmlns=\"http://www.w3.org/2000/svg\" height=\"24px\"viewBox=\"0 0 24 24\"\n",
              "       width=\"24px\">\n",
              "    <path d=\"M0 0h24v24H0V0z\" fill=\"none\"/>\n",
              "    <path d=\"M18.56 5.44l.94 2.06.94-2.06 2.06-.94-2.06-.94-.94-2.06-.94 2.06-2.06.94zm-11 1L8.5 8.5l.94-2.06 2.06-.94-2.06-.94L8.5 2.5l-.94 2.06-2.06.94zm10 10l.94 2.06.94-2.06 2.06-.94-2.06-.94-.94-2.06-.94 2.06-2.06.94z\"/><path d=\"M17.41 7.96l-1.37-1.37c-.4-.4-.92-.59-1.43-.59-.52 0-1.04.2-1.43.59L10.3 9.45l-7.72 7.72c-.78.78-.78 2.05 0 2.83L4 21.41c.39.39.9.59 1.41.59.51 0 1.02-.2 1.41-.59l7.78-7.78 2.81-2.81c.8-.78.8-2.07 0-2.86zM5.41 20L4 18.59l7.72-7.72 1.47 1.35L5.41 20z\"/>\n",
              "  </svg>\n",
              "      </button>\n",
              "      \n",
              "  <style>\n",
              "    .colab-df-container {\n",
              "      display:flex;\n",
              "      flex-wrap:wrap;\n",
              "      gap: 12px;\n",
              "    }\n",
              "\n",
              "    .colab-df-convert {\n",
              "      background-color: #E8F0FE;\n",
              "      border: none;\n",
              "      border-radius: 50%;\n",
              "      cursor: pointer;\n",
              "      display: none;\n",
              "      fill: #1967D2;\n",
              "      height: 32px;\n",
              "      padding: 0 0 0 0;\n",
              "      width: 32px;\n",
              "    }\n",
              "\n",
              "    .colab-df-convert:hover {\n",
              "      background-color: #E2EBFA;\n",
              "      box-shadow: 0px 1px 2px rgba(60, 64, 67, 0.3), 0px 1px 3px 1px rgba(60, 64, 67, 0.15);\n",
              "      fill: #174EA6;\n",
              "    }\n",
              "\n",
              "    [theme=dark] .colab-df-convert {\n",
              "      background-color: #3B4455;\n",
              "      fill: #D2E3FC;\n",
              "    }\n",
              "\n",
              "    [theme=dark] .colab-df-convert:hover {\n",
              "      background-color: #434B5C;\n",
              "      box-shadow: 0px 1px 3px 1px rgba(0, 0, 0, 0.15);\n",
              "      filter: drop-shadow(0px 1px 2px rgba(0, 0, 0, 0.3));\n",
              "      fill: #FFFFFF;\n",
              "    }\n",
              "  </style>\n",
              "\n",
              "      <script>\n",
              "        const buttonEl =\n",
              "          document.querySelector('#df-49803b33-9f3b-49c1-82bd-376df45cf3db button.colab-df-convert');\n",
              "        buttonEl.style.display =\n",
              "          google.colab.kernel.accessAllowed ? 'block' : 'none';\n",
              "\n",
              "        async function convertToInteractive(key) {\n",
              "          const element = document.querySelector('#df-49803b33-9f3b-49c1-82bd-376df45cf3db');\n",
              "          const dataTable =\n",
              "            await google.colab.kernel.invokeFunction('convertToInteractive',\n",
              "                                                     [key], {});\n",
              "          if (!dataTable) return;\n",
              "\n",
              "          const docLinkHtml = 'Like what you see? Visit the ' +\n",
              "            '<a target=\"_blank\" href=https://colab.research.google.com/notebooks/data_table.ipynb>data table notebook</a>'\n",
              "            + ' to learn more about interactive tables.';\n",
              "          element.innerHTML = '';\n",
              "          dataTable['output_type'] = 'display_data';\n",
              "          await google.colab.output.renderOutput(dataTable, element);\n",
              "          const docLink = document.createElement('div');\n",
              "          docLink.innerHTML = docLinkHtml;\n",
              "          element.appendChild(docLink);\n",
              "        }\n",
              "      </script>\n",
              "    </div>\n",
              "  </div>\n",
              "  "
            ]
          },
          "metadata": {},
          "execution_count": 21
        }
      ]
    },
    {
      "cell_type": "code",
      "source": [
        "label = df1['diabetes']"
      ],
      "metadata": {
        "execution": {
          "iopub.status.busy": "2023-05-13T09:31:42.650709Z",
          "iopub.execute_input": "2023-05-13T09:31:42.651078Z",
          "iopub.status.idle": "2023-05-13T09:31:42.65678Z",
          "shell.execute_reply.started": "2023-05-13T09:31:42.65105Z",
          "shell.execute_reply": "2023-05-13T09:31:42.655417Z"
        },
        "trusted": true,
        "id": "Om3jPIMPPOxF"
      },
      "execution_count": null,
      "outputs": []
    },
    {
      "cell_type": "markdown",
      "source": [
        "# ***Normalize the Dataset***"
      ],
      "metadata": {
        "id": "BeDY0VY0ZB1U"
      }
    },
    {
      "cell_type": "code",
      "source": [
        "# Normalize the data\n",
        "from sklearn.preprocessing import StandardScaler\n",
        "# scale the data to have zero mean and unit variance\n",
        "scaler = StandardScaler()\n",
        "features = scaler.fit_transform(features)"
      ],
      "metadata": {
        "id": "DXlXy1GLYhhR"
      },
      "execution_count": null,
      "outputs": []
    },
    {
      "cell_type": "markdown",
      "source": [
        "# ***Split Dataset***"
      ],
      "metadata": {
        "id": "ojgnkILzgkgl"
      }
    },
    {
      "cell_type": "code",
      "source": [
        "## Train test splitting \n",
        "\n",
        "from sklearn.model_selection import train_test_split \n",
        "\n",
        "x_train,x_test,y_train,y_test = train_test_split(features , label , test_size = 0.2)\n",
        "print(f\"x train shape : {x_train.shape}\")\n",
        "print(f\"y train shape : {y_train.shape}\")\n",
        "print(f\"x test shape : {x_test.shape}\")\n",
        "print(f\"y test shape : {y_test.shape}\")\n"
      ],
      "metadata": {
        "execution": {
          "iopub.status.busy": "2023-05-13T09:33:42.124254Z",
          "iopub.execute_input": "2023-05-13T09:33:42.125362Z",
          "iopub.status.idle": "2023-05-13T09:33:42.144511Z",
          "shell.execute_reply.started": "2023-05-13T09:33:42.125321Z",
          "shell.execute_reply": "2023-05-13T09:33:42.143391Z"
        },
        "trusted": true,
        "colab": {
          "base_uri": "https://localhost:8080/"
        },
        "id": "L4w3JFj0POxF",
        "outputId": "303f1b2a-4080-41a6-b0ca-1317091f3a05"
      },
      "execution_count": null,
      "outputs": [
        {
          "output_type": "stream",
          "name": "stdout",
          "text": [
            "x train shape : (76916, 8)\n",
            "y train shape : (76916,)\n",
            "x test shape : (19230, 8)\n",
            "y test shape : (19230,)\n"
          ]
        }
      ]
    },
    {
      "cell_type": "markdown",
      "source": [
        "# ***Dimensionality reduction using PCA from 8 to 6***"
      ],
      "metadata": {
        "id": "iz740EsrgaW7"
      }
    },
    {
      "cell_type": "code",
      "source": [
        "# Dimensionality reduction using PCA\n",
        "pca = PCA(n_components=6)\n",
        "x_train_pca = pca.fit_transform(x_train)\n",
        "x_test_pca = pca.transform(x_test)"
      ],
      "metadata": {
        "id": "IjRIJ71kTsOC"
      },
      "execution_count": null,
      "outputs": []
    },
    {
      "cell_type": "code",
      "source": [
        "print(f\"x train shape : {x_train_pca.shape}\")\n",
        "print(f\"y train shape : {y_train.shape}\")\n",
        "print(f\"x test shape : {x_test_pca.shape}\")\n",
        "print(f\"y test shape : {y_test.shape}\")\n"
      ],
      "metadata": {
        "colab": {
          "base_uri": "https://localhost:8080/"
        },
        "id": "JNtQAvIxUI9R",
        "outputId": "ac739b77-ae17-47f8-8999-5fec31ee6adf"
      },
      "execution_count": null,
      "outputs": [
        {
          "output_type": "stream",
          "name": "stdout",
          "text": [
            "x train shape : (76916, 6)\n",
            "y train shape : (76916,)\n",
            "x test shape : (19230, 6)\n",
            "y test shape : (19230,)\n"
          ]
        }
      ]
    },
    {
      "cell_type": "markdown",
      "source": [
        "# ***When using PCA***"
      ],
      "metadata": {
        "id": "xcbocGdBWf8h"
      }
    },
    {
      "cell_type": "code",
      "source": [
        "LR_pca=LogisticRegression(random_state = 42)\n",
        "LR_pca.fit(x_train_pca,y_train)"
      ],
      "metadata": {
        "execution": {
          "iopub.status.busy": "2023-05-13T09:42:06.866004Z",
          "iopub.execute_input": "2023-05-13T09:42:06.866594Z",
          "iopub.status.idle": "2023-05-13T09:42:13.514576Z",
          "shell.execute_reply.started": "2023-05-13T09:42:06.866559Z",
          "shell.execute_reply": "2023-05-13T09:42:13.513488Z"
        },
        "trusted": true,
        "colab": {
          "base_uri": "https://localhost:8080/",
          "height": 74
        },
        "id": "j6LL9J3gPOxG",
        "outputId": "ae66f821-4423-4474-9961-ffb0b1992096"
      },
      "execution_count": null,
      "outputs": [
        {
          "output_type": "execute_result",
          "data": {
            "text/plain": [
              "LogisticRegression(random_state=42)"
            ],
            "text/html": [
              "<style>#sk-container-id-1 {color: black;background-color: white;}#sk-container-id-1 pre{padding: 0;}#sk-container-id-1 div.sk-toggleable {background-color: white;}#sk-container-id-1 label.sk-toggleable__label {cursor: pointer;display: block;width: 100%;margin-bottom: 0;padding: 0.3em;box-sizing: border-box;text-align: center;}#sk-container-id-1 label.sk-toggleable__label-arrow:before {content: \"▸\";float: left;margin-right: 0.25em;color: #696969;}#sk-container-id-1 label.sk-toggleable__label-arrow:hover:before {color: black;}#sk-container-id-1 div.sk-estimator:hover label.sk-toggleable__label-arrow:before {color: black;}#sk-container-id-1 div.sk-toggleable__content {max-height: 0;max-width: 0;overflow: hidden;text-align: left;background-color: #f0f8ff;}#sk-container-id-1 div.sk-toggleable__content pre {margin: 0.2em;color: black;border-radius: 0.25em;background-color: #f0f8ff;}#sk-container-id-1 input.sk-toggleable__control:checked~div.sk-toggleable__content {max-height: 200px;max-width: 100%;overflow: auto;}#sk-container-id-1 input.sk-toggleable__control:checked~label.sk-toggleable__label-arrow:before {content: \"▾\";}#sk-container-id-1 div.sk-estimator input.sk-toggleable__control:checked~label.sk-toggleable__label {background-color: #d4ebff;}#sk-container-id-1 div.sk-label input.sk-toggleable__control:checked~label.sk-toggleable__label {background-color: #d4ebff;}#sk-container-id-1 input.sk-hidden--visually {border: 0;clip: rect(1px 1px 1px 1px);clip: rect(1px, 1px, 1px, 1px);height: 1px;margin: -1px;overflow: hidden;padding: 0;position: absolute;width: 1px;}#sk-container-id-1 div.sk-estimator {font-family: monospace;background-color: #f0f8ff;border: 1px dotted black;border-radius: 0.25em;box-sizing: border-box;margin-bottom: 0.5em;}#sk-container-id-1 div.sk-estimator:hover {background-color: #d4ebff;}#sk-container-id-1 div.sk-parallel-item::after {content: \"\";width: 100%;border-bottom: 1px solid gray;flex-grow: 1;}#sk-container-id-1 div.sk-label:hover label.sk-toggleable__label {background-color: #d4ebff;}#sk-container-id-1 div.sk-serial::before {content: \"\";position: absolute;border-left: 1px solid gray;box-sizing: border-box;top: 0;bottom: 0;left: 50%;z-index: 0;}#sk-container-id-1 div.sk-serial {display: flex;flex-direction: column;align-items: center;background-color: white;padding-right: 0.2em;padding-left: 0.2em;position: relative;}#sk-container-id-1 div.sk-item {position: relative;z-index: 1;}#sk-container-id-1 div.sk-parallel {display: flex;align-items: stretch;justify-content: center;background-color: white;position: relative;}#sk-container-id-1 div.sk-item::before, #sk-container-id-1 div.sk-parallel-item::before {content: \"\";position: absolute;border-left: 1px solid gray;box-sizing: border-box;top: 0;bottom: 0;left: 50%;z-index: -1;}#sk-container-id-1 div.sk-parallel-item {display: flex;flex-direction: column;z-index: 1;position: relative;background-color: white;}#sk-container-id-1 div.sk-parallel-item:first-child::after {align-self: flex-end;width: 50%;}#sk-container-id-1 div.sk-parallel-item:last-child::after {align-self: flex-start;width: 50%;}#sk-container-id-1 div.sk-parallel-item:only-child::after {width: 0;}#sk-container-id-1 div.sk-dashed-wrapped {border: 1px dashed gray;margin: 0 0.4em 0.5em 0.4em;box-sizing: border-box;padding-bottom: 0.4em;background-color: white;}#sk-container-id-1 div.sk-label label {font-family: monospace;font-weight: bold;display: inline-block;line-height: 1.2em;}#sk-container-id-1 div.sk-label-container {text-align: center;}#sk-container-id-1 div.sk-container {/* jupyter's `normalize.less` sets `[hidden] { display: none; }` but bootstrap.min.css set `[hidden] { display: none !important; }` so we also need the `!important` here to be able to override the default hidden behavior on the sphinx rendered scikit-learn.org. See: https://github.com/scikit-learn/scikit-learn/issues/21755 */display: inline-block !important;position: relative;}#sk-container-id-1 div.sk-text-repr-fallback {display: none;}</style><div id=\"sk-container-id-1\" class=\"sk-top-container\"><div class=\"sk-text-repr-fallback\"><pre>LogisticRegression(random_state=42)</pre><b>In a Jupyter environment, please rerun this cell to show the HTML representation or trust the notebook. <br />On GitHub, the HTML representation is unable to render, please try loading this page with nbviewer.org.</b></div><div class=\"sk-container\" hidden><div class=\"sk-item\"><div class=\"sk-estimator sk-toggleable\"><input class=\"sk-toggleable__control sk-hidden--visually\" id=\"sk-estimator-id-1\" type=\"checkbox\" checked><label for=\"sk-estimator-id-1\" class=\"sk-toggleable__label sk-toggleable__label-arrow\">LogisticRegression</label><div class=\"sk-toggleable__content\"><pre>LogisticRegression(random_state=42)</pre></div></div></div></div></div>"
            ]
          },
          "metadata": {},
          "execution_count": 27
        }
      ]
    },
    {
      "cell_type": "markdown",
      "source": [
        "# ***Save model***"
      ],
      "metadata": {
        "id": "FJcw-urQdzYL"
      }
    },
    {
      "cell_type": "code",
      "source": [
        "filename = 'Diabetes_Prediction_LR_with_PCA.h5'\n",
        "pickle.dump(LR_pca, open(filename, 'wb'))"
      ],
      "metadata": {
        "id": "t9VWqOVBdUIF"
      },
      "execution_count": null,
      "outputs": []
    },
    {
      "cell_type": "markdown",
      "source": [
        "# ***Load the model and test this model***"
      ],
      "metadata": {
        "id": "g3sB2Gp2d7P6"
      }
    },
    {
      "cell_type": "code",
      "source": [
        "# Load the model from file\n",
        "filename = 'Diabetes_Prediction_LR_with_PCA.h5'\n",
        "loaded_model_pca = pickle.load(open(filename, 'rb'))"
      ],
      "metadata": {
        "id": "PeKNLZC5di-U"
      },
      "execution_count": null,
      "outputs": []
    },
    {
      "cell_type": "code",
      "source": [
        "y_pred_pca = loaded_model_pca.predict(x_test_pca)"
      ],
      "metadata": {
        "id": "vhfAXAQOdd2d"
      },
      "execution_count": null,
      "outputs": []
    },
    {
      "cell_type": "code",
      "source": [
        "acc_score_pca = accuracy_score(y_test,y_pred_pca)\n",
        "print(f\"Classification Report : \\n{classification_report(y_test,y_pred_pca)}\")\n",
        "print(f\"Logistic Regression score when using PCA : {acc_score_pca*100:.3f}%\")"
      ],
      "metadata": {
        "colab": {
          "base_uri": "https://localhost:8080/"
        },
        "id": "xsVUdAV-V1rg",
        "outputId": "9eec1d25-194e-4598-91ba-2cf7bba3e12f"
      },
      "execution_count": null,
      "outputs": [
        {
          "output_type": "stream",
          "name": "stdout",
          "text": [
            "Classification Report : \n",
            "              precision    recall  f1-score   support\n",
            "\n",
            "           0       0.96      0.99      0.98     17545\n",
            "           1       0.85      0.62      0.72      1685\n",
            "\n",
            "    accuracy                           0.96     19230\n",
            "   macro avg       0.91      0.81      0.85     19230\n",
            "weighted avg       0.95      0.96      0.95     19230\n",
            "\n",
            "Logistic Regression score when using PCA : 95.751%\n"
          ]
        }
      ]
    },
    {
      "cell_type": "code",
      "source": [
        "from sklearn.metrics import confusion_matrix\n",
        "\n",
        "cm = confusion_matrix(y_test, y_pred_pca)\n",
        "\n",
        "sns.heatmap(cm, annot=True, cmap='Blues')\n",
        "plt.xlabel('Predicted Labels')\n",
        "plt.ylabel('True Labels')\n",
        "plt.title('Confusion Matrix for Logistic Regression with PCA')\n",
        "plt.show()"
      ],
      "metadata": {
        "colab": {
          "base_uri": "https://localhost:8080/",
          "height": 472
        },
        "id": "m5n2Y7uOlh_z",
        "outputId": "893ff860-18b1-4645-b4fd-28d42ea5aef3"
      },
      "execution_count": null,
      "outputs": [
        {
          "output_type": "display_data",
          "data": {
            "text/plain": [
              "<Figure size 640x480 with 2 Axes>"
            ],
            "image/png": "[encoded data removed]"
          },
          "metadata": {}
        }
      ]
    },
    {
      "cell_type": "markdown",
      "source": [
        "# ***Without using PCA***"
      ],
      "metadata": {
        "id": "aHTBfmgNXEyw"
      }
    },
    {
      "cell_type": "code",
      "source": [
        "LR=LogisticRegression(random_state = 42)\n",
        "LR.fit(x_train,y_train)"
      ],
      "metadata": {
        "colab": {
          "base_uri": "https://localhost:8080/",
          "height": 74
        },
        "id": "XKspk_VeWchP",
        "outputId": "3f84b3af-af70-4327-a429-a15af3c87b9e"
      },
      "execution_count": null,
      "outputs": [
        {
          "output_type": "execute_result",
          "data": {
            "text/plain": [
              "LogisticRegression(random_state=42)"
            ],
            "text/html": [
              "<style>#sk-container-id-2 {color: black;background-color: white;}#sk-container-id-2 pre{padding: 0;}#sk-container-id-2 div.sk-toggleable {background-color: white;}#sk-container-id-2 label.sk-toggleable__label {cursor: pointer;display: block;width: 100%;margin-bottom: 0;padding: 0.3em;box-sizing: border-box;text-align: center;}#sk-container-id-2 label.sk-toggleable__label-arrow:before {content: \"▸\";float: left;margin-right: 0.25em;color: #696969;}#sk-container-id-2 label.sk-toggleable__label-arrow:hover:before {color: black;}#sk-container-id-2 div.sk-estimator:hover label.sk-toggleable__label-arrow:before {color: black;}#sk-container-id-2 div.sk-toggleable__content {max-height: 0;max-width: 0;overflow: hidden;text-align: left;background-color: #f0f8ff;}#sk-container-id-2 div.sk-toggleable__content pre {margin: 0.2em;color: black;border-radius: 0.25em;background-color: #f0f8ff;}#sk-container-id-2 input.sk-toggleable__control:checked~div.sk-toggleable__content {max-height: 200px;max-width: 100%;overflow: auto;}#sk-container-id-2 input.sk-toggleable__control:checked~label.sk-toggleable__label-arrow:before {content: \"▾\";}#sk-container-id-2 div.sk-estimator input.sk-toggleable__control:checked~label.sk-toggleable__label {background-color: #d4ebff;}#sk-container-id-2 div.sk-label input.sk-toggleable__control:checked~label.sk-toggleable__label {background-color: #d4ebff;}#sk-container-id-2 input.sk-hidden--visually {border: 0;clip: rect(1px 1px 1px 1px);clip: rect(1px, 1px, 1px, 1px);height: 1px;margin: -1px;overflow: hidden;padding: 0;position: absolute;width: 1px;}#sk-container-id-2 div.sk-estimator {font-family: monospace;background-color: #f0f8ff;border: 1px dotted black;border-radius: 0.25em;box-sizing: border-box;margin-bottom: 0.5em;}#sk-container-id-2 div.sk-estimator:hover {background-color: #d4ebff;}#sk-container-id-2 div.sk-parallel-item::after {content: \"\";width: 100%;border-bottom: 1px solid gray;flex-grow: 1;}#sk-container-id-2 div.sk-label:hover label.sk-toggleable__label {background-color: #d4ebff;}#sk-container-id-2 div.sk-serial::before {content: \"\";position: absolute;border-left: 1px solid gray;box-sizing: border-box;top: 0;bottom: 0;left: 50%;z-index: 0;}#sk-container-id-2 div.sk-serial {display: flex;flex-direction: column;align-items: center;background-color: white;padding-right: 0.2em;padding-left: 0.2em;position: relative;}#sk-container-id-2 div.sk-item {position: relative;z-index: 1;}#sk-container-id-2 div.sk-parallel {display: flex;align-items: stretch;justify-content: center;background-color: white;position: relative;}#sk-container-id-2 div.sk-item::before, #sk-container-id-2 div.sk-parallel-item::before {content: \"\";position: absolute;border-left: 1px solid gray;box-sizing: border-box;top: 0;bottom: 0;left: 50%;z-index: -1;}#sk-container-id-2 div.sk-parallel-item {display: flex;flex-direction: column;z-index: 1;position: relative;background-color: white;}#sk-container-id-2 div.sk-parallel-item:first-child::after {align-self: flex-end;width: 50%;}#sk-container-id-2 div.sk-parallel-item:last-child::after {align-self: flex-start;width: 50%;}#sk-container-id-2 div.sk-parallel-item:only-child::after {width: 0;}#sk-container-id-2 div.sk-dashed-wrapped {border: 1px dashed gray;margin: 0 0.4em 0.5em 0.4em;box-sizing: border-box;padding-bottom: 0.4em;background-color: white;}#sk-container-id-2 div.sk-label label {font-family: monospace;font-weight: bold;display: inline-block;line-height: 1.2em;}#sk-container-id-2 div.sk-label-container {text-align: center;}#sk-container-id-2 div.sk-container {/* jupyter's `normalize.less` sets `[hidden] { display: none; }` but bootstrap.min.css set `[hidden] { display: none !important; }` so we also need the `!important` here to be able to override the default hidden behavior on the sphinx rendered scikit-learn.org. See: https://github.com/scikit-learn/scikit-learn/issues/21755 */display: inline-block !important;position: relative;}#sk-container-id-2 div.sk-text-repr-fallback {display: none;}</style><div id=\"sk-container-id-2\" class=\"sk-top-container\"><div class=\"sk-text-repr-fallback\"><pre>LogisticRegression(random_state=42)</pre><b>In a Jupyter environment, please rerun this cell to show the HTML representation or trust the notebook. <br />On GitHub, the HTML representation is unable to render, please try loading this page with nbviewer.org.</b></div><div class=\"sk-container\" hidden><div class=\"sk-item\"><div class=\"sk-estimator sk-toggleable\"><input class=\"sk-toggleable__control sk-hidden--visually\" id=\"sk-estimator-id-2\" type=\"checkbox\" checked><label for=\"sk-estimator-id-2\" class=\"sk-toggleable__label sk-toggleable__label-arrow\">LogisticRegression</label><div class=\"sk-toggleable__content\"><pre>LogisticRegression(random_state=42)</pre></div></div></div></div></div>"
            ]
          },
          "metadata": {},
          "execution_count": 33
        }
      ]
    },
    {
      "cell_type": "markdown",
      "source": [
        "# ***Save model***"
      ],
      "metadata": {
        "id": "mXDQ9G1qczsa"
      }
    },
    {
      "cell_type": "code",
      "source": [
        "filename = 'Diabetes_Prediction_LR_without_PCA.h5'\n",
        "pickle.dump(LR, open(filename, 'wb'))"
      ],
      "metadata": {
        "id": "3HOy3BDtZ2e2"
      },
      "execution_count": null,
      "outputs": []
    },
    {
      "cell_type": "markdown",
      "source": [
        "# ***Load the model and test this model***"
      ],
      "metadata": {
        "id": "9-8G0DiSc6iL"
      }
    },
    {
      "cell_type": "code",
      "source": [
        "# Load the model from file\n",
        "filename = 'Diabetes_Prediction_LR_without_PCA.h5'\n",
        "loaded_model = pickle.load(open(filename, 'rb'))"
      ],
      "metadata": {
        "id": "8o_hUWgWcvao"
      },
      "execution_count": null,
      "outputs": []
    },
    {
      "cell_type": "code",
      "source": [
        "y_pred = loaded_model.predict(x_test)"
      ],
      "metadata": {
        "id": "GB791RnSdEBA"
      },
      "execution_count": null,
      "outputs": []
    },
    {
      "cell_type": "code",
      "source": [
        "acc_score = accuracy_score(y_test,y_pred)\n",
        "print(f\"Classification Report : \\n{classification_report(y_test,y_pred)}\")\n",
        "print(f\"Logistic Regression score without using PCA : {acc_score*100:.3f}%\")"
      ],
      "metadata": {
        "colab": {
          "base_uri": "https://localhost:8080/"
        },
        "id": "EdX7kTHyWeYn",
        "outputId": "ea86f065-148a-4d5e-b2af-4ae108ad63ec"
      },
      "execution_count": null,
      "outputs": [
        {
          "output_type": "stream",
          "name": "stdout",
          "text": [
            "Classification Report : \n",
            "              precision    recall  f1-score   support\n",
            "\n",
            "           0       0.96      0.99      0.98     17545\n",
            "           1       0.84      0.62      0.71      1685\n",
            "\n",
            "    accuracy                           0.96     19230\n",
            "   macro avg       0.90      0.80      0.85     19230\n",
            "weighted avg       0.95      0.96      0.95     19230\n",
            "\n",
            "Logistic Regression score without using PCA : 95.642%\n"
          ]
        }
      ]
    },
    {
      "cell_type": "code",
      "source": [
        "from sklearn.metrics import confusion_matrix\n",
        "\n",
        "cm = confusion_matrix(y_test, y_pred)\n",
        "\n",
        "sns.heatmap(cm, annot=True, cmap='Blues')\n",
        "plt.xlabel('Predicted Labels')\n",
        "plt.ylabel('True Labels')\n",
        "plt.title('Confusion Matrix for Logistic Regression withot PCA')\n",
        "plt.show()"
      ],
      "metadata": {
        "colab": {
          "base_uri": "https://localhost:8080/",
          "height": 472
        },
        "id": "0Mf3sRwwmFDP",
        "outputId": "81d19a52-9a6d-405a-8577-93a39540b12e"
      },
      "execution_count": null,
      "outputs": [
        {
          "output_type": "display_data",
          "data": {
            "text/plain": [
              "<Figure size 640x480 with 2 Axes>"
            ],
            "image/png": "[encoded data removed]"
          },
          "metadata": {}
        }
      ]
    },
    {
      "cell_type": "markdown",
      "source": [
        "# ***Try different number of features in PCA  on  Train and Test***"
      ],
      "metadata": {
        "id": "bl09Y9sdrK1N"
      }
    },
    {
      "cell_type": "code",
      "source": [
        "train_accuracy = []\n",
        "test_accuracy = []\n",
        "component_values = [1, 2, 3, 4, 5, 6,7,8]  # Number of components used in PCA\n",
        "\n",
        "for n in component_values:\n",
        "    # Perform PCA with 'n' components\n",
        "    pca = PCA(n_components=n)\n",
        "    x_train_pca = pca.fit_transform(x_train)\n",
        "    x_test_pca = pca.transform(x_test)\n",
        "\n",
        "    # Train logistic regression model\n",
        "    LR_pca = LogisticRegression(random_state=42)\n",
        "    LR_pca.fit(x_train_pca, y_train)\n",
        "\n",
        "    # Calculate training accuracy\n",
        "    y_train_pred_pca = LR_pca.predict(x_train_pca)\n",
        "    train_acc = accuracy_score(y_train, y_train_pred_pca)\n",
        "    train_accuracy.append(train_acc)\n",
        "\n",
        "    # Calculate testing accuracy\n",
        "    y_test_pred_pca = LR_pca.predict(x_test_pca)\n",
        "    test_acc = accuracy_score(y_test, y_test_pred_pca)\n",
        "    test_accuracy.append(test_acc)\n",
        "\n",
        "# Plotting the accuracy curves\n",
        "plt.figure(figsize=(10, 6))\n",
        "plt.plot(component_values, train_accuracy, marker='o', label='Train Accuracy')\n",
        "plt.plot(component_values, test_accuracy, marker='o', label='Test Accuracy')\n",
        "plt.title('Train and Test Accuracy vs. Number of PCA Components')\n",
        "plt.xlabel('Number of PCA Components')\n",
        "plt.ylabel('Accuracy')\n",
        "plt.legend()\n",
        "plt.grid(True)\n",
        "plt.show()\n"
      ],
      "metadata": {
        "colab": {
          "base_uri": "https://localhost:8080/",
          "height": 564
        },
        "id": "Q3AyVn0UpLEu",
        "outputId": "a8f819c3-0991-49ae-bfde-e8d816140dee"
      },
      "execution_count": null,
      "outputs": [
        {
          "output_type": "display_data",
          "data": {
            "text/plain": [
              "<Figure size 1000x600 with 1 Axes>"
            ],
            "image/png": "[encoded data removed]"
          },
          "metadata": {}
        }
      ]
    }
  ]
}